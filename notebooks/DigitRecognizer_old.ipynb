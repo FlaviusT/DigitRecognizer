{
 "cells": [
  {
   "cell_type": "code",
   "execution_count": null,
   "metadata": {},
   "outputs": [],
   "source": [
    "#required packages"
   ]
  },
  {
   "cell_type": "code",
   "execution_count": null,
   "metadata": {},
   "outputs": [],
   "source": [
    "pip install tensorflow"
   ]
  },
  {
   "cell_type": "code",
   "execution_count": null,
   "metadata": {},
   "outputs": [],
   "source": [
    "pip install keras"
   ]
  },
  {
   "cell_type": "code",
   "execution_count": null,
   "metadata": {},
   "outputs": [],
   "source": [
    "pip install pandas"
   ]
  },
  {
   "cell_type": "code",
   "execution_count": null,
   "metadata": {},
   "outputs": [],
   "source": [
    "pip install matplotlib"
   ]
  },
  {
   "cell_type": "code",
   "execution_count": null,
   "metadata": {},
   "outputs": [],
   "source": [
    "#packages\n",
    "import tensorflow as tf\n",
    "import pandas\n",
    "import matplotlib.pyplot as plt"
   ]
  },
  {
   "cell_type": "code",
   "execution_count": null,
   "metadata": {},
   "outputs": [],
   "source": [
    "#read the train and the test datasets from the csv file and transform them into numpy arrays\n",
    "train_data = pandas.read_csv(\"../datasets/train.csv\").to_numpy()\n",
    "test_data = pandas.read_csv(\"../datasets/test.csv\").to_numpy()"
   ]
  },
  {
   "cell_type": "code",
   "execution_count": null,
   "metadata": {},
   "outputs": [],
   "source": [
    "#now that we have the data, as it's from 0..255, we want to make those values between 0 to 1\n",
    "#doing this, it's easier for the neuronal network to learn\n",
    "train_data_normalized = tf.keras.utils.normalize(train_data)\n",
    "test_data_normalized = tf.keras.utils.normalize(test_data)"
   ]
  },
  {
   "cell_type": "code",
   "execution_count": null,
   "metadata": {},
   "outputs": [],
   "source": [
    "#check the length of the dataset(to see how can we split the data for train/test)\n",
    "print(\"Train set length: \",len(train_data_normalized))\n",
    "print(\"Test set length: \", len(test_data_normalized))"
   ]
  },
  {
   "cell_type": "code",
   "execution_count": null,
   "metadata": {},
   "outputs": [],
   "source": [
    "#get the train_set/test_set(reprezents the pixels from the image) \n",
    "#and the train_set_label/test_set_label(represents the correct numbers)\n",
    "train_set = train_data_normalized[0:42000,1:]\n",
    "train_set_label = train_data[0:42000,0]\n",
    "\n",
    "test_set = test_data_normalized[0:28000,1:]\n",
    "test_set_label = test_data[0:28000,0]\n",
    "\n",
    "#NOTE\n",
    "#As the data is normalized, the label was normalized as well. \n",
    "#We take the label value from the normal dataset(train_data/test_Data)"
   ]
  },
  {
   "cell_type": "code",
   "execution_count": null,
   "metadata": {},
   "outputs": [],
   "source": [
    "img = train_set[30]\n",
    "img.shape=(28, 28)\n",
    "plt.imshow(255 - img,cmap=plt.cm.binary)\n",
    "plt.show()\n",
    "train_set_label[30]"
   ]
  },
  {
   "cell_type": "code",
   "execution_count": null,
   "metadata": {},
   "outputs": [],
   "source": []
  },
  {
   "cell_type": "code",
   "execution_count": null,
   "metadata": {},
   "outputs": [],
   "source": []
  }
 ],
 "metadata": {
  "kernelspec": {
   "display_name": "Python 3",
   "language": "python",
   "name": "python3"
  },
  "language_info": {
   "codemirror_mode": {
    "name": "ipython",
    "version": 3
   },
   "file_extension": ".py",
   "mimetype": "text/x-python",
   "name": "python",
   "nbconvert_exporter": "python",
   "pygments_lexer": "ipython3",
   "version": "3.7.3"
  }
 },
 "nbformat": 4,
 "nbformat_minor": 2
}
